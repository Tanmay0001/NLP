{
 "cells": [
  {
   "cell_type": "code",
   "execution_count": 23,
   "id": "dc2ccc46",
   "metadata": {},
   "outputs": [
    {
     "name": "stdout",
     "output_type": "stream",
     "text": [
      "Requirement already satisfied: nltk in c:\\users\\hp\\anaconda3\\lib\\site-packages (3.8.1)\n",
      "Requirement already satisfied: click in c:\\users\\hp\\anaconda3\\lib\\site-packages (from nltk) (8.0.4)\n",
      "Requirement already satisfied: joblib in c:\\users\\hp\\anaconda3\\lib\\site-packages (from nltk) (1.0.1)\n",
      "Requirement already satisfied: regex>=2021.8.3 in c:\\users\\hp\\anaconda3\\lib\\site-packages (from nltk) (2022.7.9)\n",
      "Requirement already satisfied: tqdm in c:\\users\\hp\\anaconda3\\lib\\site-packages (from nltk) (4.65.0)\n",
      "Requirement already satisfied: colorama in c:\\users\\hp\\anaconda3\\lib\\site-packages (from click->nltk) (0.4.6)\n"
     ]
    }
   ],
   "source": [
    "! pip install nltk"
   ]
  },
  {
   "cell_type": "code",
   "execution_count": 24,
   "id": "3f7b2b96",
   "metadata": {},
   "outputs": [],
   "source": [
    "# lets take simpole sentence\n",
    "corpus =\"\"\" Hello I'm Tanmay Mishra the greatst! of all time.\n",
    "I am the best of the best's.\n",
    "\"\"\""
   ]
  },
  {
   "cell_type": "code",
   "execution_count": 25,
   "id": "94fb46e9",
   "metadata": {},
   "outputs": [],
   "source": [
    "# finding sentence from paragraph\n",
    "#paragraph --->>sentences\n",
    "from nltk.tokenize import sent_tokenize\n"
   ]
  },
  {
   "cell_type": "code",
   "execution_count": 26,
   "id": "52fc57f5",
   "metadata": {},
   "outputs": [
    {
     "data": {
      "text/plain": [
       "[\" Hello I'm Tanmay Mishra the greatst!\",\n",
       " 'of all time.',\n",
       " \"I am the best of the best's.\"]"
      ]
     },
     "execution_count": 26,
     "metadata": {},
     "output_type": "execute_result"
    }
   ],
   "source": [
    "sent_tokenize(corpus)"
   ]
  },
  {
   "cell_type": "code",
   "execution_count": 28,
   "id": "04501641",
   "metadata": {},
   "outputs": [
    {
     "data": {
      "text/plain": [
       "['Hello',\n",
       " 'I',\n",
       " \"'m\",\n",
       " 'Tanmay',\n",
       " 'Mishra',\n",
       " 'the',\n",
       " 'greatst',\n",
       " '!',\n",
       " 'of',\n",
       " 'all',\n",
       " 'time',\n",
       " '.',\n",
       " 'I',\n",
       " 'am',\n",
       " 'the',\n",
       " 'best',\n",
       " 'of',\n",
       " 'the',\n",
       " 'best',\n",
       " \"'s\",\n",
       " '.']"
      ]
     },
     "execution_count": 28,
     "metadata": {},
     "output_type": "execute_result"
    }
   ],
   "source": [
    "# paragraph --->> words\n",
    "from nltk.tokenize import word_tokenize\n",
    "word_tokenize(corpus)"
   ]
  },
  {
   "cell_type": "code",
   "execution_count": 30,
   "id": "bd5445d3",
   "metadata": {},
   "outputs": [
    {
     "data": {
      "text/plain": [
       "['Hello',\n",
       " 'I',\n",
       " \"'\",\n",
       " 'm',\n",
       " 'Tanmay',\n",
       " 'Mishra',\n",
       " 'the',\n",
       " 'greatst',\n",
       " '!',\n",
       " 'of',\n",
       " 'all',\n",
       " 'time',\n",
       " '.',\n",
       " 'I',\n",
       " 'am',\n",
       " 'the',\n",
       " 'best',\n",
       " 'of',\n",
       " 'the',\n",
       " 'best',\n",
       " \"'\",\n",
       " 's',\n",
       " '.']"
      ]
     },
     "execution_count": 30,
     "metadata": {},
     "output_type": "execute_result"
    }
   ],
   "source": [
    "from nltk.tokenize import wordpunct_tokenize\n",
    "wordpunct_tokenize(corpus)"
   ]
  },
  {
   "cell_type": "code",
   "execution_count": 31,
   "id": "d7fade02",
   "metadata": {},
   "outputs": [],
   "source": [
    "from nltk import TreebankWordTokenizer\n",
    "tokenizer = TreebankWordTokenizer()"
   ]
  },
  {
   "cell_type": "code",
   "execution_count": 32,
   "id": "ef73f1cb",
   "metadata": {},
   "outputs": [
    {
     "data": {
      "text/plain": [
       "['Hello',\n",
       " 'I',\n",
       " \"'m\",\n",
       " 'Tanmay',\n",
       " 'Mishra',\n",
       " 'the',\n",
       " 'greatst',\n",
       " '!',\n",
       " 'of',\n",
       " 'all',\n",
       " 'time.',\n",
       " 'I',\n",
       " 'am',\n",
       " 'the',\n",
       " 'best',\n",
       " 'of',\n",
       " 'the',\n",
       " 'best',\n",
       " \"'s\",\n",
       " '.']"
      ]
     },
     "execution_count": 32,
     "metadata": {},
     "output_type": "execute_result"
    }
   ],
   "source": [
    "tokenizer.tokenize(corpus)"
   ]
  },
  {
   "cell_type": "code",
   "execution_count": null,
   "id": "641923e4",
   "metadata": {},
   "outputs": [],
   "source": []
  }
 ],
 "metadata": {
  "kernelspec": {
   "display_name": "Python 3 (ipykernel)",
   "language": "python",
   "name": "python3"
  },
  "language_info": {
   "codemirror_mode": {
    "name": "ipython",
    "version": 3
   },
   "file_extension": ".py",
   "mimetype": "text/x-python",
   "name": "python",
   "nbconvert_exporter": "python",
   "pygments_lexer": "ipython3",
   "version": "3.11.5"
  }
 },
 "nbformat": 4,
 "nbformat_minor": 5
}
