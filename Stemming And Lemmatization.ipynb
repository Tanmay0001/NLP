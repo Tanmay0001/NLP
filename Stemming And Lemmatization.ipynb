{
 "cells": [
  {
   "cell_type": "markdown",
   "id": "12198e0b",
   "metadata": {},
   "source": [
    "1. Sentiment analysis- Stemming\n",
    "2. chatbot- Lemmatization"
   ]
  },
  {
   "cell_type": "code",
   "execution_count": 2,
   "id": "f883f6d1",
   "metadata": {},
   "outputs": [],
   "source": [
    "from nltk.stem import PorterStemmer"
   ]
  },
  {
   "cell_type": "code",
   "execution_count": 3,
   "id": "b250edf7",
   "metadata": {},
   "outputs": [],
   "source": [
    "stemming = PorterStemmer()"
   ]
  },
  {
   "cell_type": "code",
   "execution_count": 4,
   "id": "d97be4f4",
   "metadata": {},
   "outputs": [],
   "source": [
    "words = [\"eating\", \"eats\", \"eaten\", \"writing\", \"writes\", \"programming\", \"programs\", \"history\", \"finally\", \"finalized\"]"
   ]
  },
  {
   "cell_type": "code",
   "execution_count": 5,
   "id": "10ce7cf4",
   "metadata": {},
   "outputs": [
    {
     "name": "stdout",
     "output_type": "stream",
     "text": [
      "eating ------> eat\n",
      "eats ------> eat\n",
      "eaten ------> eaten\n",
      "writing ------> write\n",
      "writes ------> write\n",
      "programming ------> program\n",
      "programs ------> program\n",
      "history ------> histori\n",
      "finally ------> final\n",
      "finalized ------> final\n"
     ]
    }
   ],
   "source": [
    "for word in words:\n",
    "    print(word + \" ------> \" + stemming.stem(word))"
   ]
  },
  {
   "cell_type": "code",
   "execution_count": 6,
   "id": "c1e28f5c",
   "metadata": {},
   "outputs": [
    {
     "data": {
      "text/plain": [
       "'congratul'"
      ]
     },
     "execution_count": 6,
     "metadata": {},
     "output_type": "execute_result"
    }
   ],
   "source": [
    "stemming.stem(\"congratulations\")"
   ]
  },
  {
   "cell_type": "code",
   "execution_count": 7,
   "id": "a89ce218",
   "metadata": {},
   "outputs": [
    {
     "data": {
      "text/plain": [
       "'enjoy'"
      ]
     },
     "execution_count": 7,
     "metadata": {},
     "output_type": "execute_result"
    }
   ],
   "source": [
    "stemming.stem(\"enjoyed\")"
   ]
  },
  {
   "cell_type": "code",
   "execution_count": 8,
   "id": "3d26205a",
   "metadata": {},
   "outputs": [],
   "source": [
    "# LANCASTER Stemming - types of stemming\n",
    "from nltk.stem import LancasterStemmer"
   ]
  },
  {
   "cell_type": "code",
   "execution_count": 9,
   "id": "43d5c21e",
   "metadata": {},
   "outputs": [],
   "source": [
    "lancaster = LancasterStemmer()"
   ]
  },
  {
   "cell_type": "code",
   "execution_count": 10,
   "id": "977b078f",
   "metadata": {},
   "outputs": [
    {
     "name": "stdout",
     "output_type": "stream",
     "text": [
      "eating ------> eat\n",
      "eats ------> eat\n",
      "eaten ------> eat\n",
      "writing ------> writ\n",
      "writes ------> writ\n",
      "programming ------> program\n",
      "programs ------> program\n",
      "history ------> hist\n",
      "finally ------> fin\n",
      "finalized ------> fin\n"
     ]
    }
   ],
   "source": [
    "for word in words:\n",
    "    print(word + \" ------> \" + lancaster.stem(word))"
   ]
  },
  {
   "cell_type": "code",
   "execution_count": 11,
   "id": "d22e4bad",
   "metadata": {},
   "outputs": [],
   "source": [
    "# Snowball stemmer\n",
    "from nltk.stem import SnowballStemmer"
   ]
  },
  {
   "cell_type": "code",
   "execution_count": 12,
   "id": "8ec9eff4",
   "metadata": {},
   "outputs": [],
   "source": [
    "snowballStemmer = SnowballStemmer('english', ignore_stopwords = False)"
   ]
  },
  {
   "cell_type": "code",
   "execution_count": 13,
   "id": "3f508a1e",
   "metadata": {},
   "outputs": [
    {
     "name": "stdout",
     "output_type": "stream",
     "text": [
      "eating ------> eat\n",
      "eats ------> eat\n",
      "eaten ------> eaten\n",
      "writing ------> write\n",
      "writes ------> write\n",
      "programming ------> program\n",
      "programs ------> program\n",
      "history ------> histori\n",
      "finally ------> final\n",
      "finalized ------> final\n"
     ]
    }
   ],
   "source": [
    "for word in words:\n",
    "    print(word + \" ------> \" + snowballStemmer.stem(word))"
   ]
  },
  {
   "cell_type": "code",
   "execution_count": 14,
   "id": "ec1b2aa0",
   "metadata": {},
   "outputs": [
    {
     "data": {
      "text/plain": [
       "('fairli', 'sportingli')"
      ]
     },
     "execution_count": 14,
     "metadata": {},
     "output_type": "execute_result"
    }
   ],
   "source": [
    "stemming.stem(\"fairly\"), stemming.stem(\"sportingly\")"
   ]
  },
  {
   "cell_type": "code",
   "execution_count": 15,
   "id": "360fcd50",
   "metadata": {},
   "outputs": [
    {
     "data": {
      "text/plain": [
       "('fair', 'sportingli')"
      ]
     },
     "execution_count": 15,
     "metadata": {},
     "output_type": "execute_result"
    }
   ],
   "source": [
    "snowballStemmer.stem(\"fairly\"), stemming.stem(\"sportingly\")"
   ]
  },
  {
   "cell_type": "markdown",
   "id": "cb5245f6",
   "metadata": {},
   "source": [
    "from above snowball stemmer performing better"
   ]
  },
  {
   "cell_type": "code",
   "execution_count": null,
   "id": "48b436c2",
   "metadata": {
    "collapsed": true,
    "jupyter": {
     "outputs_hidden": true
    }
   },
   "outputs": [],
   "source": []
  },
  {
   "cell_type": "markdown",
   "id": "1f168907",
   "metadata": {},
   "source": [
    "# Performing Lemmatization"
   ]
  },
  {
   "cell_type": "markdown",
   "id": "4a3a762e",
   "metadata": {},
   "source": []
  },
  {
   "cell_type": "code",
   "execution_count": 16,
   "id": "ca30f9d1",
   "metadata": {},
   "outputs": [
    {
     "name": "stderr",
     "output_type": "stream",
     "text": [
      "[nltk_data] Downloading package wordnet to\n",
      "[nltk_data]     C:\\Users\\hp\\AppData\\Roaming\\nltk_data...\n",
      "[nltk_data]   Package wordnet is already up-to-date!\n"
     ]
    },
    {
     "data": {
      "text/plain": [
       "True"
      ]
     },
     "execution_count": 16,
     "metadata": {},
     "output_type": "execute_result"
    }
   ],
   "source": [
    "import nltk\n",
    "nltk.download('wordnet')\n"
   ]
  },
  {
   "cell_type": "code",
   "execution_count": 17,
   "id": "f5701a24",
   "metadata": {},
   "outputs": [
    {
     "name": "stdout",
     "output_type": "stream",
     "text": [
      "eating ------> eating\n",
      "eats ------> eats\n",
      "eaten ------> eaten\n",
      "writing ------> writing\n",
      "writes ------> writes\n",
      "programming ------> programming\n",
      "programs ------> program\n",
      "history ------> history\n",
      "finally ------> finally\n",
      "finalized ------> finalized\n"
     ]
    }
   ],
   "source": [
    "import nltk\n",
    "from nltk.stem import WordNetLemmatizer\n",
    "\n",
    "# Initialize the WordNet Lemmatizer\n",
    "lemmatizer = WordNetLemmatizer()\n",
    "\n",
    "# List of words to lemmatize\n",
    "words = [\"eating\", \"eats\", \"eaten\", \"writing\", \"writes\", \"programming\", \"programs\", \"history\", \"finally\", \"finalized\"]\n",
    "# Lemmatize each word and print the result\n",
    "for word in words:\n",
    "    print(word + \" ------> \" + lemmatizer.lemmatize(word))\n"
   ]
  },
  {
   "cell_type": "code",
   "execution_count": 48,
   "id": "70c6ac75",
   "metadata": {},
   "outputs": [],
   "source": [
    "#lemmatizer.lemmatize()\n",
    "# first parameter = word\n",
    "# 2nd parameter = pos tag - i.e word is noun , adjective etc"
   ]
  },
  {
   "cell_type": "code",
   "execution_count": 18,
   "id": "c3394561",
   "metadata": {},
   "outputs": [
    {
     "data": {
      "text/plain": [
       "'look'"
      ]
     },
     "execution_count": 18,
     "metadata": {},
     "output_type": "execute_result"
    }
   ],
   "source": [
    "lemmatizer.lemmatize(\"looking\", pos='v') #pos='v' argument specifies that you want to lemmatize the word as a verb. "
   ]
  },
  {
   "cell_type": "code",
   "execution_count": null,
   "id": "536aa619",
   "metadata": {},
   "outputs": [],
   "source": []
  },
  {
   "cell_type": "code",
   "execution_count": null,
   "id": "b68db0f4",
   "metadata": {},
   "outputs": [],
   "source": []
  }
 ],
 "metadata": {
  "kernelspec": {
   "display_name": "Python 3 (ipykernel)",
   "language": "python",
   "name": "python3"
  },
  "language_info": {
   "codemirror_mode": {
    "name": "ipython",
    "version": 3
   },
   "file_extension": ".py",
   "mimetype": "text/x-python",
   "name": "python",
   "nbconvert_exporter": "python",
   "pygments_lexer": "ipython3",
   "version": "3.11.7"
  }
 },
 "nbformat": 4,
 "nbformat_minor": 5
}
