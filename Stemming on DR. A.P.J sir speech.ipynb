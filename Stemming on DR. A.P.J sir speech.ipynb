{
 "cells": [
  {
   "cell_type": "code",
   "execution_count": 2,
   "id": "37aa710c",
   "metadata": {},
   "outputs": [],
   "source": [
    "import nltk\n",
    "from nltk.corpus import stopwords"
   ]
  },
  {
   "cell_type": "code",
   "execution_count": 3,
   "id": "3e9b7418",
   "metadata": {},
   "outputs": [],
   "source": [
    "paragraph = \"\"\"I have three visions for India. In 3000 years of our history, people from all over \n",
    "               the world have come and invaded us, captured our lands, conquered our minds. \n",
    "               From Alexander onwards, the Greeks, the Turks, the Moguls, the Portuguese, the British,\n",
    "               the French, the Dutch, all of them came and looted us, took over what was ours. \n",
    "               Yet we have not done this to any other nation. We have not conquered anyone. \n",
    "               We have not grabbed their land, their culture, \n",
    "               their history and tried to enforce our way of life on them. \n",
    "               Why? Because we respect the freedom of others.That is why my \n",
    "               first vision is that of freedom. I believe that India got its first vision of \n",
    "               this in 1857, when we started the War of Independence. It is this freedom that\n",
    "               we must protect and nurture and build on. If we are not free, no one will respect us.\n",
    "               My second vision for India’s development. For fifty years we have been a developing nation.\n",
    "               It is time we see ourselves as a developed nation. We are among the top 5 nations of the world\n",
    "               in terms of GDP. We have a 10 percent growth rate in most areas. Our poverty levels are falling.\n",
    "               Our achievements are being globally recognised today. Yet we lack the self-confidence to\n",
    "               see ourselves as a developed nation, self-reliant and self-assured. Isn’t this incorrect?\n",
    "               I have a third vision. India must stand up to the world. Because I believe that unless India \n",
    "               stands up to the world, no one will respect us. Only strength respects strength. We must be \n",
    "               strong not only as a military power but also as an economic power. Both must go hand-in-hand. \n",
    "               My good fortune was to have worked with three great minds. Dr. Vikram Sarabhai of the Dept. of \n",
    "               space, Professor Satish Dhawan, who succeeded him and Dr. Brahm Prakash, father of nuclear material.\n",
    "               I was lucky to have worked with all three of them closely and consider this the great opportunity of my life. \n",
    "               I see four milestones in my career\"\"\""
   ]
  },
  {
   "cell_type": "code",
   "execution_count": 10,
   "id": "9c6e800d",
   "metadata": {},
   "outputs": [],
   "source": [
    "# Tokenizing sentences\n",
    "sentences = nltk.sent_tokenize(paragraph) # converting paragraph--->sentences"
   ]
  },
  {
   "cell_type": "code",
   "execution_count": 11,
   "id": "9b969340",
   "metadata": {},
   "outputs": [
    {
     "data": {
      "text/plain": [
       "['I have three visions for India.',\n",
       " 'In 3000 years of our history, people from all over \\n               the world have come and invaded us, captured our lands, conquered our minds.',\n",
       " 'From Alexander onwards, the Greeks, the Turks, the Moguls, the Portuguese, the British,\\n               the French, the Dutch, all of them came and looted us, took over what was ours.',\n",
       " 'Yet we have not done this to any other nation.',\n",
       " 'We have not conquered anyone.',\n",
       " 'We have not grabbed their land, their culture, \\n               their history and tried to enforce our way of life on them.',\n",
       " 'Why?',\n",
       " 'Because we respect the freedom of others.That is why my \\n               first vision is that of freedom.',\n",
       " 'I believe that India got its first vision of \\n               this in 1857, when we started the War of Independence.',\n",
       " 'It is this freedom that\\n               we must protect and nurture and build on.',\n",
       " 'If we are not free, no one will respect us.',\n",
       " 'My second vision for India’s development.',\n",
       " 'For fifty years we have been a developing nation.',\n",
       " 'It is time we see ourselves as a developed nation.',\n",
       " 'We are among the top 5 nations of the world\\n               in terms of GDP.',\n",
       " 'We have a 10 percent growth rate in most areas.',\n",
       " 'Our poverty levels are falling.',\n",
       " 'Our achievements are being globally recognised today.',\n",
       " 'Yet we lack the self-confidence to\\n               see ourselves as a developed nation, self-reliant and self-assured.',\n",
       " 'Isn’t this incorrect?',\n",
       " 'I have a third vision.',\n",
       " 'India must stand up to the world.',\n",
       " 'Because I believe that unless India \\n               stands up to the world, no one will respect us.',\n",
       " 'Only strength respects strength.',\n",
       " 'We must be \\n               strong not only as a military power but also as an economic power.',\n",
       " 'Both must go hand-in-hand.',\n",
       " 'My good fortune was to have worked with three great minds.',\n",
       " 'Dr. Vikram Sarabhai of the Dept.',\n",
       " 'of \\n               space, Professor Satish Dhawan, who succeeded him and Dr. Brahm Prakash, father of nuclear material.',\n",
       " 'I was lucky to have worked with all three of them closely and consider this the great opportunity of my life.',\n",
       " 'I see four milestones in my career']"
      ]
     },
     "execution_count": 11,
     "metadata": {},
     "output_type": "execute_result"
    }
   ],
   "source": [
    "sentences "
   ]
  },
  {
   "cell_type": "code",
   "execution_count": 9,
   "id": "8a77e75d",
   "metadata": {},
   "outputs": [],
   "source": [
    "from nltk.stem import PorterStemmer\n",
    "\n",
    "# Create an instance of the Porter Stemmer\n",
    "stemmer = PorterStemmer()\n"
   ]
  },
  {
   "cell_type": "code",
   "execution_count": 12,
   "id": "41b7c234",
   "metadata": {},
   "outputs": [],
   "source": [
    "# Stemming - now willl remove stopwords which of no use\n",
    "for i in range(len(sentences)):\n",
    "    words = nltk.word_tokenize(sentences[i])\n",
    "    words = [stemmer.stem(word) for word in words if word not in set(stopwords.words('english'))]\n",
    "    sentences[i] = ' '.join(words)  "
   ]
  },
  {
   "cell_type": "code",
   "execution_count": null,
   "id": "f821b300",
   "metadata": {},
   "outputs": [],
   "source": []
  },
  {
   "cell_type": "code",
   "execution_count": 16,
   "id": "5cfd05c5",
   "metadata": {},
   "outputs": [
    {
     "name": "stdout",
     "output_type": "stream",
     "text": [
      "Stemmed words for sentence 1 : ['three', 'vision', 'india', '.']\n",
      "Stemmed words for sentence 2 : ['3000', 'year', 'histori', ',', 'peopl', 'world', 'come', 'invad', 'us', ',', 'captur', 'land', ',', 'conquer', 'mind', '.']\n",
      "Stemmed words for sentence 3 : ['alexand', 'onward', ',', 'greek', ',', 'turk', ',', 'mogul', ',', 'portugu', ',', 'british', ',', 'french', ',', 'dutch', ',', 'came', 'loot', 'us', ',', 'took', '.']\n",
      "Stemmed words for sentence 4 : ['yet', 'done', 'nation', '.']\n",
      "Stemmed words for sentence 5 : ['conquer', 'anyon', '.']\n",
      "Stemmed words for sentence 6 : ['grab', 'land', ',', 'cultur', ',', 'histori', 'tri', 'enforc', 'way', 'life', '.']\n",
      "Stemmed words for sentence 7 : ['whi', '?']\n",
      "Stemmed words for sentence 8 : ['becau', 'respect', 'freedom', 'others.that', 'first', 'vision', 'freedom', '.']\n",
      "Stemmed words for sentence 9 : ['believ', 'india', 'got', 'first', 'vision', '1857', ',', 'start', 'war', 'independ', '.']\n",
      "Stemmed words for sentence 10 : ['freedom', 'must', 'protect', 'nurtur', 'build', '.']\n",
      "Stemmed words for sentence 11 : ['free', ',', 'one', 'respect', 'us', '.']\n",
      "Stemmed words for sentence 12 : ['second', 'vision', 'india', '’', 'develop', '.']\n",
      "Stemmed words for sentence 13 : ['fifti', 'year', 'develop', 'nation', '.']\n",
      "Stemmed words for sentence 14 : ['time', 'see', 'develop', 'nation', '.']\n",
      "Stemmed words for sentence 15 : ['among', 'top', '5', 'nation', 'world', 'term', 'gdp', '.']\n",
      "Stemmed words for sentence 16 : ['10', 'percent', 'growth', 'rate', 'area', '.']\n",
      "Stemmed words for sentence 17 : ['poverti', 'level', 'fall', '.']\n",
      "Stemmed words for sentence 18 : ['achiev', 'global', 'recogni', 'today', '.']\n",
      "Stemmed words for sentence 19 : ['yet', 'lack', 'self-confid', 'see', 'develop', 'nation', ',', 'self-r', 'self-assur', '.']\n",
      "Stemmed words for sentence 20 : ['’', 'incorrect', '?']\n",
      "Stemmed words for sentence 21 : ['third', 'vision', '.']\n",
      "Stemmed words for sentence 22 : ['india', 'must', 'stand', 'world', '.']\n",
      "Stemmed words for sentence 23 : ['becau', 'believ', 'unless', 'india', 'stand', 'world', ',', 'one', 'respect', 'us', '.']\n",
      "Stemmed words for sentence 24 : ['onli', 'strength', 'respect', 'strength', '.']\n",
      "Stemmed words for sentence 25 : ['must', 'strong', 'militari', 'power', 'also', 'econom', 'power', '.']\n",
      "Stemmed words for sentence 26 : ['must', 'go', 'hand-in-hand', '.']\n",
      "Stemmed words for sentence 27 : ['good', 'fortun', 'work', 'three', 'great', 'mind', '.']\n",
      "Stemmed words for sentence 28 : ['dr.', 'vikram', 'sarabhai', 'dept', '.']\n",
      "Stemmed words for sentence 29 : ['space', ',', 'professor', 'satish', 'dhawan', ',', 'succeed', 'dr.', 'brahm', 'prakash', ',', 'father', 'nuclear', 'materi', '.']\n",
      "Stemmed words for sentence 30 : ['lucki', 'work', 'three', 'close', 'consid', 'great', 'opportun', 'life', '.']\n",
      "Stemmed words for sentence 31 : ['see', 'four', 'mileston', 'career']\n"
     ]
    }
   ],
   "source": [
    "# seeeing the words after stemming\n",
    "for i in range(len(sentences)):\n",
    "    words = nltk.word_tokenize(sentences[i])\n",
    "    stemmed_words = [stemmer.stem(word) for word in words if word not in set(stopwords.words('english'))]\n",
    "    print(\"Stemmed words for sentence\", i+1, \":\", stemmed_words)\n",
    "    sentences[i] = ' '.join(stemmed_words)\n"
   ]
  },
  {
   "cell_type": "code",
   "execution_count": null,
   "id": "df27d725",
   "metadata": {},
   "outputs": [],
   "source": []
  }
 ],
 "metadata": {
  "kernelspec": {
   "display_name": "Python 3 (ipykernel)",
   "language": "python",
   "name": "python3"
  },
  "language_info": {
   "codemirror_mode": {
    "name": "ipython",
    "version": 3
   },
   "file_extension": ".py",
   "mimetype": "text/x-python",
   "name": "python",
   "nbconvert_exporter": "python",
   "pygments_lexer": "ipython3",
   "version": "3.11.5"
  }
 },
 "nbformat": 4,
 "nbformat_minor": 5
}
