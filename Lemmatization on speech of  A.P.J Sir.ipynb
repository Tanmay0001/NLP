{
 "cells": [
  {
   "cell_type": "code",
   "execution_count": 1,
   "id": "c6ee4dda",
   "metadata": {},
   "outputs": [],
   "source": [
    "import nltk\n",
    "from nltk.stem import WordNetLemmatizer\n",
    "from nltk.corpus import stopwords"
   ]
  },
  {
   "cell_type": "code",
   "execution_count": 2,
   "id": "b2bbad69",
   "metadata": {},
   "outputs": [],
   "source": [
    "paragraph = \"\"\"Thank you all so very much. Thank you to the Academy. \n",
    "               Thank you to all of you in this room. I have to congratulate \n",
    "               the other incredible nominees this year. The Revenant was \n",
    "               the product of the tireless efforts of an unbelievable cast\n",
    "               and crew. First off, to my brother in this endeavor, Mr. Tom \n",
    "               Hardy. Tom, your talent on screen can only be surpassed by \n",
    "               your friendship off screen … thank you for creating a t\n",
    "               ranscendent cinematic experience. Thank you to everybody at \n",
    "               Fox and New Regency … my entire team. I have to thank \n",
    "               everyone from the very onset of my career … To my parents; \n",
    "               none of this would be possible without you. And to my \n",
    "               friends, I love you dearly; you know who you are. And lastly,\n",
    "               I just want to say this: Making The Revenant was about\n",
    "               man's relationship to the natural world. A world that we\n",
    "               collectively felt in 2015 as the hottest year in recorded\n",
    "               history. Our production needed to move to the southern\n",
    "               tip of this planet just to be able to find snow. Climate\n",
    "               change is real, it is happening right now. It is the most\n",
    "               urgent threat facing our entire species, and we need to work\n",
    "               collectively together and stop procrastinating. We need to\n",
    "               support leaders around the world who do not speak for the \n",
    "               big polluters, but who speak for all of humanity, for the\n",
    "               indigenous people of the world, for the billions and \n",
    "               billions of underprivileged people out there who would be\n",
    "               most affected by this. For our children’s children, and \n",
    "               for those people out there whose voices have been drowned\n",
    "               out by the politics of greed. I thank you all for this \n",
    "               amazing award tonight. Let us not take this planet for \n",
    "               granted. I do not take tonight for granted. Thank you so very much.\"\"\"\n",
    "               "
   ]
  },
  {
   "cell_type": "code",
   "execution_count": 6,
   "id": "5e4b0248",
   "metadata": {},
   "outputs": [],
   "source": [
    "# convert paragraph ---> sentences\n",
    "sentences = nltk.sent_tokenize(paragraph)\n",
    "lemmatizer = WordNetLemmatizer()"
   ]
  },
  {
   "cell_type": "code",
   "execution_count": 9,
   "id": "6399738c",
   "metadata": {},
   "outputs": [
    {
     "data": {
      "text/plain": [
       "['Thank much .',\n",
       " 'Thank Academy .',\n",
       " 'Thank room .',\n",
       " 'I congratulate incredible nominee year .',\n",
       " 'The Revenant product tireless effort unbelievable cast crew .',\n",
       " 'First , brother endeavor , Mr. Tom Hardy .',\n",
       " 'Tom , talent screen surpassed friendship screen … thank creating ranscendent cinematic experience .',\n",
       " 'Thank everybody Fox New Regency … entire team .',\n",
       " 'I thank everyone onset career … To parent ; none would possible without .',\n",
       " 'And friend , I love dearly ; know .',\n",
       " \"And lastly , I want say : Making The Revenant man 's relationship natural world .\",\n",
       " 'A world collectively felt 2015 hottest year recorded history .',\n",
       " 'Our production needed move southern tip planet able find snow .',\n",
       " 'Climate change real , happening right .',\n",
       " 'It urgent threat facing entire specie , need work collectively together stop procrastinating .',\n",
       " 'We need support leader around world speak big polluter , speak humanity , indigenous people world , billion billion underprivileged people would affected .',\n",
       " 'For child ’ child , people whose voice drowned politics greed .',\n",
       " 'I thank amazing award tonight .',\n",
       " 'Let u take planet granted .',\n",
       " 'I take tonight granted .',\n",
       " 'Thank much .']"
      ]
     },
     "execution_count": 9,
     "metadata": {},
     "output_type": "execute_result"
    }
   ],
   "source": [
    "sentences"
   ]
  },
  {
   "cell_type": "code",
   "execution_count": 7,
   "id": "63b56f6a",
   "metadata": {},
   "outputs": [],
   "source": [
    "# Lemmatization\n",
    "for i in range(len(sentences)):\n",
    "    words = nltk.word_tokenize(sentences[i])\n",
    "    words = [lemmatizer.lemmatize(word) for word in words if word not in set(stopwords.words('english'))]\n",
    "    sentences[i] = ' '.join(words)   "
   ]
  },
  {
   "cell_type": "code",
   "execution_count": 10,
   "id": "18baf11d",
   "metadata": {},
   "outputs": [
    {
     "name": "stdout",
     "output_type": "stream",
     "text": [
      "Lemmatized words for sentence 1 : ['Thank', 'much', '.']\n",
      "Lemmatized words for sentence 2 : ['Thank', 'Academy', '.']\n",
      "Lemmatized words for sentence 3 : ['Thank', 'room', '.']\n",
      "Lemmatized words for sentence 4 : ['I', 'congratulate', 'incredible', 'nominee', 'year', '.']\n",
      "Lemmatized words for sentence 5 : ['The', 'Revenant', 'product', 'tireless', 'effort', 'unbelievable', 'cast', 'crew', '.']\n",
      "Lemmatized words for sentence 6 : ['First', ',', 'brother', 'endeavor', ',', 'Mr.', 'Tom', 'Hardy', '.']\n",
      "Lemmatized words for sentence 7 : ['Tom', ',', 'talent', 'screen', 'surpassed', 'friendship', 'screen', '…', 'thank', 'creating', 'ranscendent', 'cinematic', 'experience', '.']\n",
      "Lemmatized words for sentence 8 : ['Thank', 'everybody', 'Fox', 'New', 'Regency', '…', 'entire', 'team', '.']\n",
      "Lemmatized words for sentence 9 : ['I', 'thank', 'everyone', 'onset', 'career', '…', 'To', 'parent', ';', 'none', 'would', 'possible', 'without', '.']\n",
      "Lemmatized words for sentence 10 : ['And', 'friend', ',', 'I', 'love', 'dearly', ';', 'know', '.']\n",
      "Lemmatized words for sentence 11 : ['And', 'lastly', ',', 'I', 'want', 'say', ':', 'Making', 'The', 'Revenant', 'man', \"'s\", 'relationship', 'natural', 'world', '.']\n",
      "Lemmatized words for sentence 12 : ['A', 'world', 'collectively', 'felt', '2015', 'hottest', 'year', 'recorded', 'history', '.']\n",
      "Lemmatized words for sentence 13 : ['Our', 'production', 'needed', 'move', 'southern', 'tip', 'planet', 'able', 'find', 'snow', '.']\n",
      "Lemmatized words for sentence 14 : ['Climate', 'change', 'real', ',', 'happening', 'right', '.']\n",
      "Lemmatized words for sentence 15 : ['It', 'urgent', 'threat', 'facing', 'entire', 'specie', ',', 'need', 'work', 'collectively', 'together', 'stop', 'procrastinating', '.']\n",
      "Lemmatized words for sentence 16 : ['We', 'need', 'support', 'leader', 'around', 'world', 'speak', 'big', 'polluter', ',', 'speak', 'humanity', ',', 'indigenous', 'people', 'world', ',', 'billion', 'billion', 'underprivileged', 'people', 'would', 'affected', '.']\n",
      "Lemmatized words for sentence 17 : ['For', 'child', '’', 'child', ',', 'people', 'whose', 'voice', 'drowned', 'politics', 'greed', '.']\n",
      "Lemmatized words for sentence 18 : ['I', 'thank', 'amazing', 'award', 'tonight', '.']\n",
      "Lemmatized words for sentence 19 : ['Let', 'u', 'take', 'planet', 'granted', '.']\n",
      "Lemmatized words for sentence 20 : ['I', 'take', 'tonight', 'granted', '.']\n",
      "Lemmatized words for sentence 21 : ['Thank', 'much', '.']\n"
     ]
    }
   ],
   "source": [
    "for i in range(len(sentences)):\n",
    "    words = nltk.word_tokenize(sentences[i])\n",
    "    lemmatized_words = [lemmatizer.lemmatize(word) for word in words if word not in set(stopwords.words('english'))]\n",
    "    print(\"Lemmatized words for sentence\", i+1, \":\", lemmatized_words)\n",
    "    sentences[i] = ' '.join(lemmatized_words)\n",
    "\n"
   ]
  },
  {
   "cell_type": "code",
   "execution_count": null,
   "id": "3a952e9f",
   "metadata": {},
   "outputs": [],
   "source": []
  }
 ],
 "metadata": {
  "kernelspec": {
   "display_name": "Python 3 (ipykernel)",
   "language": "python",
   "name": "python3"
  },
  "language_info": {
   "codemirror_mode": {
    "name": "ipython",
    "version": 3
   },
   "file_extension": ".py",
   "mimetype": "text/x-python",
   "name": "python",
   "nbconvert_exporter": "python",
   "pygments_lexer": "ipython3",
   "version": "3.11.5"
  }
 },
 "nbformat": 4,
 "nbformat_minor": 5
}
