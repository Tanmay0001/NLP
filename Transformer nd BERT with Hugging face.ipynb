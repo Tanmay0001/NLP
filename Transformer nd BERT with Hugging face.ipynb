# Sentiment Analysis with Hugging Face Transformers

## Overview
This project demonstrates how to perform sentiment analysis using Hugging Face's Transformers library. It includes examples of using both English and multilingual models.

## Models Used
- **DistilBERT**: A fine-tuned model for English sentiment analysis.
- **Multilingual BERT**: Capable of analyzing sentiment in multiple languages, including French.

## Requirements
- Python
- transformers
- torch (if using PyTorch)
- tensorflow (if using TensorFlow)

## Installation
```bash
pip install transformers torch tensorflow
